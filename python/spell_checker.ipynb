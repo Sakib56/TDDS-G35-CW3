{
 "cells": [
  {
   "cell_type": "code",
   "execution_count": 1,
   "metadata": {},
   "outputs": [
    {
     "name": "stdout",
     "output_type": "stream",
     "text": [
      "Collecting pyspellchecker\n",
      "  Downloading pyspellchecker-0.6.3-py3-none-any.whl (2.7 MB)\n",
      "     ---------------------------------------- 2.7/2.7 MB 1.4 MB/s eta 0:00:00\n",
      "Installing collected packages: pyspellchecker\n",
      "Successfully installed pyspellchecker-0.6.3\n",
      "Note: you may need to restart the kernel to use updated packages.\n"
     ]
    }
   ],
   "source": [
    "%pip install pyspellchecker"
   ]
  },
  {
   "cell_type": "code",
   "execution_count": 11,
   "metadata": {},
   "outputs": [],
   "source": [
    "from spellchecker import SpellChecker\n",
    "\n",
    "def spell_checker(query):\n",
    "    spell = SpellChecker()\n",
    "    query = spell.split_words(query)\n",
    "    misspelled = spell.unknown(query)\n",
    "    if len(misspelled) == 0:\n",
    "        return\n",
    "    for i in range(len(query)):\n",
    "        if query[i] in misspelled:\n",
    "            query[i] = spell.correction(query[i])\n",
    "    return \"Did you mean: \\\"\" + ' '.join(query) + \"\\\" ?\"\n"
   ]
  }
 ],
 "metadata": {
  "interpreter": {
   "hash": "103b48ebf1aa2242c051892b45e13b26f3e433ba168cde98ac0c97b247123e4d"
  },
  "kernelspec": {
   "display_name": "Python 3.8.8 ('base')",
   "language": "python",
   "name": "python3"
  },
  "language_info": {
   "codemirror_mode": {
    "name": "ipython",
    "version": 3
   },
   "file_extension": ".py",
   "mimetype": "text/x-python",
   "name": "python",
   "nbconvert_exporter": "python",
   "pygments_lexer": "ipython3",
   "version": "3.8.8"
  },
  "orig_nbformat": 4
 },
 "nbformat": 4,
 "nbformat_minor": 2
}
