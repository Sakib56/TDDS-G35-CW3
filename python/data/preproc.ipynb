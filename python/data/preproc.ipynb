{
 "cells": [
  {
   "cell_type": "code",
   "execution_count": 9,
   "metadata": {},
   "outputs": [
    {
     "name": "stdout",
     "output_type": "stream",
     "text": [
      "Requirement already satisfied: requests in c:\\users\\rapto\\miniconda3\\envs\\dlib\\lib\\site-packages (2.27.1)\n",
      "Requirement already satisfied: idna<4,>=2.5 in c:\\users\\rapto\\miniconda3\\envs\\dlib\\lib\\site-packages (from requests) (3.3)\n",
      "Requirement already satisfied: urllib3<1.27,>=1.21.1 in c:\\users\\rapto\\miniconda3\\envs\\dlib\\lib\\site-packages (from requests) (1.26.8)\n",
      "Requirement already satisfied: certifi>=2017.4.17 in c:\\users\\rapto\\miniconda3\\envs\\dlib\\lib\\site-packages (from requests) (2021.10.8)\n",
      "Requirement already satisfied: charset-normalizer~=2.0.0 in c:\\users\\rapto\\miniconda3\\envs\\dlib\\lib\\site-packages (from requests) (2.0.11)\n",
      "Requirement already satisfied: dict2xml in c:\\users\\rapto\\miniconda3\\envs\\dlib\\lib\\site-packages (1.7.0)\n",
      "Requirement already satisfied: lxml in c:\\users\\rapto\\miniconda3\\envs\\dlib\\lib\\site-packages (4.7.1)\n",
      "Collecting xmltodict\n",
      "  Downloading xmltodict-0.12.0-py2.py3-none-any.whl (9.2 kB)\n",
      "Installing collected packages: xmltodict\n",
      "Successfully installed xmltodict-0.12.0\n"
     ]
    }
   ],
   "source": [
    "!pip install requests\n",
    "!pip install dict2xml\n",
    "!pip install lxml\n",
    "!pip install xmltodict"
   ]
  },
  {
   "cell_type": "code",
   "execution_count": 10,
   "metadata": {},
   "outputs": [],
   "source": [
    "from lxml import etree\n",
    "import xmltodict\n",
    "import os"
   ]
  },
  {
   "cell_type": "markdown",
   "metadata": {},
   "source": [
    "# TOP LEVEL"
   ]
  },
  {
   "cell_type": "code",
   "execution_count": 42,
   "metadata": {},
   "outputs": [
    {
     "data": {
      "text/plain": [
       "{'{http://www.mediawiki.org/xml/export-0.10/}page',\n",
       " '{http://www.mediawiki.org/xml/export-0.10/}siteinfo'}"
      ]
     },
     "execution_count": 42,
     "metadata": {},
     "output_type": "execute_result"
    }
   ],
   "source": [
    "tree = etree.parse([f for f in os.listdir(\".\") if \".xml\" in f][0])\n",
    "root = tree.getroot()\n",
    "\n",
    "top_level = [child for child in root]\n",
    "top_level_tags = set(c.tag for c in top_level)\n",
    "top_level_tags"
   ]
  },
  {
   "cell_type": "markdown",
   "metadata": {},
   "source": [
    "# EACH `page` HAS THE FOLLOWING:"
   ]
  },
  {
   "cell_type": "code",
   "execution_count": 51,
   "metadata": {},
   "outputs": [
    {
     "data": {
      "text/plain": [
       "{'{http://www.mediawiki.org/xml/export-0.10/}id',\n",
       " '{http://www.mediawiki.org/xml/export-0.10/}ns',\n",
       " '{http://www.mediawiki.org/xml/export-0.10/}redirect',\n",
       " '{http://www.mediawiki.org/xml/export-0.10/}revision',\n",
       " '{http://www.mediawiki.org/xml/export-0.10/}title'}"
      ]
     },
     "execution_count": 51,
     "metadata": {},
     "output_type": "execute_result"
    }
   ],
   "source": [
    "\n",
    "one_level_down = []\n",
    "for child in top_level:\n",
    "    if \"page\" in child.tag:\n",
    "        for sub_child in child:\n",
    "            one_level_down += [sub_child.tag]\n",
    "set(one_level_down)"
   ]
  }
 ],
 "metadata": {
  "interpreter": {
   "hash": "2b33cc0aa606a7cd86692ef7ab2f627c9423e7c0e341e76598b529db68f926cc"
  },
  "kernelspec": {
   "display_name": "Python 3.7.11 ('dlib')",
   "language": "python",
   "name": "python3"
  },
  "language_info": {
   "codemirror_mode": {
    "name": "ipython",
    "version": 3
   },
   "file_extension": ".py",
   "mimetype": "text/x-python",
   "name": "python",
   "nbconvert_exporter": "python",
   "pygments_lexer": "ipython3",
   "version": "3.7.11"
  },
  "orig_nbformat": 4
 },
 "nbformat": 4,
 "nbformat_minor": 2
}
