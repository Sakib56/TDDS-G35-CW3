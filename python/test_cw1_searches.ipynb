{
 "cells": [
  {
   "cell_type": "code",
   "execution_count": 2,
   "metadata": {},
   "outputs": [
    {
     "name": "stdout",
     "output_type": "stream",
     "text": [
      "Requirement already satisfied: gensim==4.1.2 in c:\\users\\kenza\\anaconda3\\lib\\site-packages (from -r requirements.txt (line 1)) (4.1.2)\n",
      "Collecting jsonpatch==1.22\n"
     ]
    },
    {
     "name": "stderr",
     "output_type": "stream",
     "text": [
      "ERROR: Could not install packages due to an OSError: [WinError 5] Access is denied: 'C:\\\\Users\\\\kenza\\\\anaconda3\\\\Lib\\\\site-packages\\\\~egex\\\\_regex.cp38-win_amd64.pyd'\n",
      "Consider using the `--user` option or check the permissions.\n",
      "\n"
     ]
    },
    {
     "name": "stdout",
     "output_type": "stream",
     "text": [
      "  Downloading jsonpatch-1.22-py2.py3-none-any.whl (10 kB)\n",
      "Collecting jsonpointer==2.0\n",
      "  Downloading jsonpointer-2.0-py2.py3-none-any.whl (7.6 kB)\n",
      "Requirement already satisfied: jsonschema==3.2.0 in c:\\users\\kenza\\anaconda3\\lib\\site-packages (from -r requirements.txt (line 4)) (3.2.0)\n",
      "Collecting lxml==4.7.1\n",
      "  Downloading lxml-4.7.1-cp38-cp38-win_amd64.whl (3.7 MB)\n",
      "     ---------------------------------------- 3.7/3.7 MB 7.9 MB/s eta 0:00:00\n",
      "Collecting matplotlib==3.5.1\n",
      "  Downloading matplotlib-3.5.1-cp38-cp38-win_amd64.whl (7.2 MB)\n",
      "     ---------------------------------------- 7.2/7.2 MB 7.0 MB/s eta 0:00:00\n",
      "Collecting nltk==3.6.7\n",
      "  Downloading nltk-3.6.7-py3-none-any.whl (1.5 MB)\n",
      "     ---------------------------------------- 1.5/1.5 MB 7.3 MB/s eta 0:00:00\n",
      "Collecting numpy==1.22.1\n",
      "  Downloading numpy-1.22.1-cp38-cp38-win_amd64.whl (14.7 MB)\n",
      "     ---------------------------------------- 14.7/14.7 MB 7.9 MB/s eta 0:00:00\n",
      "Collecting pandas==1.4.0\n",
      "  Downloading pandas-1.4.0-cp38-cp38-win_amd64.whl (10.6 MB)\n",
      "     ---------------------------------------- 10.6/10.6 MB 8.3 MB/s eta 0:00:00\n",
      "Collecting regex==2022.1.18\n",
      "  Downloading regex-2022.1.18-cp38-cp38-win_amd64.whl (273 kB)\n",
      "     -------------------------------------- 273.2/273.2 KB 5.6 MB/s eta 0:00:00\n",
      "Collecting scikit-learn==1.0.2\n",
      "  Downloading scikit_learn-1.0.2-cp38-cp38-win_amd64.whl (7.2 MB)\n",
      "     ---------------------------------------- 7.2/7.2 MB 8.1 MB/s eta 0:00:00\n",
      "Collecting scipy==1.7.3\n",
      "  Downloading scipy-1.7.3-cp38-cp38-win_amd64.whl (34.2 MB)\n",
      "     ---------------------------------------- 34.2/34.2 MB 6.8 MB/s eta 0:00:00\n",
      "Collecting sklearn==0.0\n",
      "  Downloading sklearn-0.0.tar.gz (1.1 kB)\n",
      "  Preparing metadata (setup.py): started\n",
      "  Preparing metadata (setup.py): finished with status 'done'\n",
      "Requirement already satisfied: tqdm==4.62.3 in c:\\users\\kenza\\anaconda3\\lib\\site-packages (from -r requirements.txt (line 14)) (4.62.3)\n",
      "Requirement already satisfied: Cython==0.29.23 in c:\\users\\kenza\\anaconda3\\lib\\site-packages (from gensim==4.1.2->-r requirements.txt (line 1)) (0.29.23)\n",
      "Requirement already satisfied: smart-open>=1.8.1 in c:\\users\\kenza\\anaconda3\\lib\\site-packages (from gensim==4.1.2->-r requirements.txt (line 1)) (5.2.1)\n",
      "Requirement already satisfied: setuptools in c:\\users\\kenza\\anaconda3\\lib\\site-packages (from jsonschema==3.2.0->-r requirements.txt (line 4)) (52.0.0.post20210125)\n",
      "Collecting six>=1.11.0\n",
      "  Using cached six-1.16.0-py2.py3-none-any.whl (11 kB)\n",
      "Requirement already satisfied: pyrsistent>=0.14.0 in c:\\users\\kenza\\anaconda3\\lib\\site-packages (from jsonschema==3.2.0->-r requirements.txt (line 4)) (0.17.3)\n",
      "Requirement already satisfied: attrs>=17.4.0 in c:\\users\\kenza\\anaconda3\\lib\\site-packages (from jsonschema==3.2.0->-r requirements.txt (line 4)) (20.3.0)\n",
      "Requirement already satisfied: pillow>=6.2.0 in c:\\users\\kenza\\anaconda3\\lib\\site-packages (from matplotlib==3.5.1->-r requirements.txt (line 6)) (8.2.0)\n",
      "Requirement already satisfied: pyparsing>=2.2.1 in c:\\users\\kenza\\anaconda3\\lib\\site-packages (from matplotlib==3.5.1->-r requirements.txt (line 6)) (2.4.7)\n",
      "Requirement already satisfied: python-dateutil>=2.7 in c:\\users\\kenza\\anaconda3\\lib\\site-packages (from matplotlib==3.5.1->-r requirements.txt (line 6)) (2.8.2)\n",
      "Requirement already satisfied: kiwisolver>=1.0.1 in c:\\users\\kenza\\anaconda3\\lib\\site-packages (from matplotlib==3.5.1->-r requirements.txt (line 6)) (1.3.1)\n",
      "Requirement already satisfied: packaging>=20.0 in c:\\users\\kenza\\anaconda3\\lib\\site-packages (from matplotlib==3.5.1->-r requirements.txt (line 6)) (20.9)\n",
      "Collecting fonttools>=4.22.0\n",
      "  Downloading fonttools-4.29.1-py3-none-any.whl (895 kB)\n",
      "     -------------------------------------- 895.5/895.5 KB 6.3 MB/s eta 0:00:00\n",
      "Requirement already satisfied: cycler>=0.10 in c:\\users\\kenza\\anaconda3\\lib\\site-packages (from matplotlib==3.5.1->-r requirements.txt (line 6)) (0.10.0)\n",
      "Requirement already satisfied: joblib in c:\\users\\kenza\\anaconda3\\lib\\site-packages (from nltk==3.6.7->-r requirements.txt (line 7)) (1.0.1)\n",
      "Requirement already satisfied: click in c:\\users\\kenza\\anaconda3\\lib\\site-packages (from nltk==3.6.7->-r requirements.txt (line 7)) (6.7)\n",
      "Requirement already satisfied: pytz>=2020.1 in c:\\users\\kenza\\anaconda3\\lib\\site-packages (from pandas==1.4.0->-r requirements.txt (line 9)) (2021.3)\n",
      "Requirement already satisfied: threadpoolctl>=2.0.0 in c:\\users\\kenza\\anaconda3\\lib\\site-packages (from scikit-learn==1.0.2->-r requirements.txt (line 11)) (2.1.0)\n",
      "Requirement already satisfied: colorama in c:\\users\\kenza\\anaconda3\\lib\\site-packages (from tqdm==4.62.3->-r requirements.txt (line 14)) (0.4.4)\n",
      "Building wheels for collected packages: sklearn\n",
      "  Building wheel for sklearn (setup.py): started\n",
      "  Building wheel for sklearn (setup.py): finished with status 'done'\n",
      "  Created wheel for sklearn: filename=sklearn-0.0-py2.py3-none-any.whl size=1316 sha256=2352a9a3e5efe4fca62d14838dab02bb3e6ad33ba89e7716350eb6f0c8b58b1c\n",
      "  Stored in directory: c:\\users\\kenza\\appdata\\local\\pip\\cache\\wheels\\22\\0b\\40\\fd3f795caaa1fb4c6cb738bc1f56100be1e57da95849bfc897\n",
      "Successfully built sklearn\n",
      "Installing collected packages: regex, six, numpy, lxml, jsonpointer, fonttools, scipy, nltk, jsonpatch, scikit-learn, pandas, matplotlib, sklearn\n",
      "  Attempting uninstall: regex\n",
      "    Found existing installation: regex 2021.4.4\n",
      "    Uninstalling regex-2021.4.4:\n",
      "      Successfully uninstalled regex-2021.4.4\n"
     ]
    }
   ],
   "source": [
    "!pip install -r requirements.txt"
   ]
  },
  {
   "cell_type": "code",
   "execution_count": 3,
   "metadata": {},
   "outputs": [
    {
     "name": "stdout",
     "output_type": "stream",
     "text": [
      "os.getcwd()='c:\\\\Users\\\\kenza\\\\OneDrive\\\\Documents\\\\TTDS-Proj\\\\TDDS-G35-CW3'\n"
     ]
    }
   ],
   "source": [
    "import os\n",
    "\n",
    "if \"python\" in os.getcwd():\n",
    "    os.chdir('..')\n",
    "print(f\"{os.getcwd()=}\")"
   ]
  },
  {
   "cell_type": "code",
   "execution_count": 1,
   "metadata": {},
   "outputs": [],
   "source": [
    "import SimpleSearch\n",
    "import AdvancedSearch\n",
    "import SmartSearch\n",
    "from pathlib import Path"
   ]
  },
  {
   "cell_type": "code",
   "execution_count": 4,
   "metadata": {},
   "outputs": [
    {
     "name": "stdout",
     "output_type": "stream",
     "text": [
      "\n",
      "Reading XML from c:\\Users\\kenza\\OneDrive\\Documents\\TTDS-Proj\\TDDS-G35-CW3\\python\\data\\wikidata_short.xml...\n",
      "Getting {methods} indexes:\n",
      "\t- Preprocessing <class 'dict'>...\n"
     ]
    },
    {
     "name": "stderr",
     "output_type": "stream",
     "text": [
      "100%|██████████| 339/339 [00:04<00:00, 76.54it/s] \n",
      "100%|██████████| 339/339 [00:12<00:00, 27.01it/s] \n"
     ]
    },
    {
     "name": "stdout",
     "output_type": "stream",
     "text": [
      "\t- Getting Index : pos\n",
      "\t\t Indexing working...\n"
     ]
    }
   ],
   "source": [
    "pth2data = \"wikidata_short.xml\"\n",
    "simple_search_obj = SimpleSearch.SimpleSearch(pth2data, rerun=True)"
   ]
  },
  {
   "cell_type": "code",
   "execution_count": 5,
   "metadata": {},
   "outputs": [
    {
     "name": "stdout",
     "output_type": "stream",
     "text": [
      "\tRunning Ranked IR with query : Anarchism.\n",
      "\n",
      "\t- Queryprocessing : Anarchism --> ['anarch']...\n"
     ]
    },
    {
     "data": {
      "text/plain": [
       "{'12': 8.779342617646359}"
      ]
     },
     "execution_count": 5,
     "metadata": {},
     "output_type": "execute_result"
    }
   ],
   "source": [
    "simple_search_obj.rankedIR(\"Anarchism\")"
   ]
  },
  {
   "cell_type": "code",
   "execution_count": 6,
   "metadata": {},
   "outputs": [
    {
     "name": "stdout",
     "output_type": "stream",
     "text": [
      "\n",
      "\tRunning Boolean Search with query : Anarchism.\n",
      "\t- Queryprocessing : Anarchism --> ['anarch']...\n"
     ]
    },
    {
     "data": {
      "text/plain": [
       "{'12'}"
      ]
     },
     "execution_count": 6,
     "metadata": {},
     "output_type": "execute_result"
    }
   ],
   "source": [
    "simple_search_obj.booleanSearch(\"Anarchism\")"
   ]
  },
  {
   "cell_type": "code",
   "execution_count": null,
   "metadata": {},
   "outputs": [],
   "source": []
  }
 ],
 "metadata": {
  "interpreter": {
   "hash": "e8cbf28d3cb776c9509c084be644b2d084d902a2197dac10de5c316b508683de"
  },
  "kernelspec": {
   "display_name": "Python 3.9.7 ('ttds')",
   "language": "python",
   "name": "python3"
  },
  "language_info": {
   "codemirror_mode": {
    "name": "ipython",
    "version": 3
   },
   "file_extension": ".py",
   "mimetype": "text/x-python",
   "name": "python",
   "nbconvert_exporter": "python",
   "pygments_lexer": "ipython3",
   "version": "3.8.8"
  },
  "orig_nbformat": 4
 },
 "nbformat": 4,
 "nbformat_minor": 2
}
