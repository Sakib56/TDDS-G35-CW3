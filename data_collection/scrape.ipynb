{
 "cells": [
  {
   "cell_type": "code",
   "execution_count": 1,
   "metadata": {},
   "outputs": [
    {
     "name": "stdout",
     "output_type": "stream",
     "text": [
      "Requirement already satisfied: requests in /home/zsakib_/miniconda3/envs/ttds/lib/python3.8/site-packages (2.27.1)\n",
      "Requirement already satisfied: charset-normalizer~=2.0.0 in /home/zsakib_/miniconda3/envs/ttds/lib/python3.8/site-packages (from requests) (2.0.10)\n",
      "Requirement already satisfied: urllib3<1.27,>=1.21.1 in /home/zsakib_/miniconda3/envs/ttds/lib/python3.8/site-packages (from requests) (1.26.8)\n",
      "Requirement already satisfied: idna<4,>=2.5 in /home/zsakib_/miniconda3/envs/ttds/lib/python3.8/site-packages (from requests) (3.3)\n",
      "Requirement already satisfied: certifi>=2017.4.17 in /home/zsakib_/miniconda3/envs/ttds/lib/python3.8/site-packages (from requests) (2021.10.8)\n",
      "Requirement already satisfied: dict2xml in /home/zsakib_/miniconda3/envs/ttds/lib/python3.8/site-packages (1.7.0)\n"
     ]
    }
   ],
   "source": [
    "!pip install requests\n",
    "!pip install dict2xml"
   ]
  },
  {
   "cell_type": "code",
   "execution_count": 2,
   "metadata": {},
   "outputs": [],
   "source": [
    "import requests\n",
    "from lxml import html\n",
    "from dict2xml import dict2xml"
   ]
  },
  {
   "cell_type": "code",
   "execution_count": 3,
   "metadata": {},
   "outputs": [],
   "source": [
    "output_file = \"./data.xml\"\n",
    "starting_id = 0 # CHNAGE THIS TO LAST ID IN XML FILE"
   ]
  },
  {
   "cell_type": "code",
   "execution_count": 4,
   "metadata": {},
   "outputs": [],
   "source": [
    "def get_unknown_fields(xpath_query):\n",
    "    name, value = (t.strip() for t in tree.xpath(f\"{xpath_query}/text()\")[0].split(\": \"))\n",
    "    name = name.lower().replace(\" \", \"_\").replace(\"-\", \"_\").split(\"(\")[0]\n",
    "    if not value:\n",
    "        value = tree.xpath(f\"{xpath_query}/a/text()\")[0].strip()\n",
    "    return name, value"
   ]
  },
  {
   "cell_type": "code",
   "execution_count": 11,
   "metadata": {},
   "outputs": [
    {
     "name": "stdout",
     "output_type": "stream",
     "text": [
      "1\n",
      "2\n",
      "4\n",
      "5\n",
      "6\n",
      "9\n"
     ]
    }
   ],
   "source": [
    "# scrapes data from \"https://thegamesdb.net/game.php?id={i}\" and appends to output_file.xml\n",
    "with open(output_file, \"a\", encoding=\"utf-8\") as f:\n",
    "    f.write(\"<GAMES>\")\n",
    "    for i in range(starting_id, 10000):\n",
    "        url = f\"https://thegamesdb.net/game.php?id={i}\"\n",
    "        page = requests.get(url)\n",
    "        tree = html.fromstring(page.text)\n",
    "\n",
    "        try:\n",
    "            game_name = tree.xpath(\"/html/body/div/div[2]/div[2]/div[1]/div/div/div[1]/h1/text()\")[0].strip()\n",
    "            description = tree.xpath(\"/html/body/div/div[2]/div[2]/div[1]/div/div/div[2]/p[1]/text()\")[0].strip()\n",
    "        except IndexError: continue\n",
    "\n",
    "        gamesdb_link = url\n",
    "        esrb_rating = \"\"\n",
    "        genres = \"\"\n",
    "\n",
    "        for j in range(2,6):\n",
    "            try:\n",
    "                name, value = tree.xpath(f\"/html/body/div/div[2]/div[2]/div[1]/div/div/div[2]/p[{j}]/text()\")[0].split(\": \")\n",
    "                if value:\n",
    "                        esrb_rating = value if \"esrb\" in name.lower() else esrb_rating\n",
    "                        genres = value if \"genre\" in name.lower() else genres\n",
    "            except IndexError: continue\n",
    "\n",
    "        data = {\n",
    "                \"game\": {\n",
    "                        \"game_id\": i,\n",
    "                        \"game_name\": game_name,\n",
    "                        \"description\": description,\n",
    "                        \"esrb_rating\": esrb_rating,\n",
    "                        \"genres\": genres, \n",
    "                        \"gamesdb_link\": gamesdb_link\n",
    "                        }\n",
    "                }\n",
    "\n",
    "        for k in range(2,10):\n",
    "            try:\n",
    "                xpath_query = f\"/html/body/div/div[2]/div[1]/div/div/div/div[2]/p[{k}]\"\n",
    "                name, value = get_unknown_fields(xpath_query)\n",
    "                data[\"game\"][name] = value\n",
    "            except IndexError: continue\n",
    "\n",
    "        xml = dict2xml(data, indent=False)\n",
    "        f.write(xml)\n",
    "        # print(xml, sep=\"\\n----\\n\")\n",
    "        print(i)\n",
    "    f.write(\"</GAMES>\")"
   ]
  },
  {
   "cell_type": "code",
   "execution_count": null,
   "metadata": {},
   "outputs": [
    {
     "name": "stdout",
     "output_type": "stream",
     "text": [
      "region ['Region Not Set'] Region Not Set\n",
      "publishers ['Konami'] Konami\n",
      "releasedate ['2011-11-22'] 2011-11-22\n",
      "co-op ['No'] No\n"
     ]
    }
   ],
   "source": [
    "# i=9000\n",
    "# url = f\"https://thegamesdb.net/game.php?id={i}\"\n",
    "# page = requests.get(url)\n",
    "# tree = html.fromstring(page.text)\n",
    "\n",
    "# game_name = tree.xpath(\"/html/body/div/div[2]/div[2]/div[1]/div/div/div[1]/h1/text()\")[0]\n",
    "# description = tree.xpath(\"/html/body/div/div[2]/div[2]/div[1]/div/div/div[2]/p[1]/text()\")[0]\n",
    "# esrb_rating = \"\"\n",
    "# genres = \"\"\n",
    "\n",
    "# for k in range(2,6):\n",
    "#     try:\n",
    "#         xpath_query = f\"/html/body/div/div[2]/div[1]/div/div/div/div[2]/p[{k}]\"\n",
    "#         name, value = tree.xpath(f\"{xpath_query}/text()\")[0].split(\": \")\n",
    "#         name = name.lower().replace(\" \", \"_\").strip().split(\"(\")[0]\n",
    "#         value = value.strip()\n",
    "#         if not value:\n",
    "#             value = tree.xpath(f\"{xpath_query}/a/text()\")[0]\n",
    "        \n",
    "#         # /html/body/div/div[2]/div[1]/div/div/div/div[2]/p[1]/a\n",
    "#         print(name, [value], value)\n",
    "#     except IndexError: continue"
   ]
  }
 ],
 "metadata": {
  "interpreter": {
   "hash": "0f0c44e54a4690e22f0c1e9b3ef4423581cf0d7a9ee1c8c99c0ad79730a8be22"
  },
  "kernelspec": {
   "display_name": "Python 3.8.12 64-bit ('ttds': conda)",
   "language": "python",
   "name": "python3"
  },
  "language_info": {
   "codemirror_mode": {
    "name": "ipython",
    "version": 3
   },
   "file_extension": ".py",
   "mimetype": "text/x-python",
   "name": "python",
   "nbconvert_exporter": "python",
   "pygments_lexer": "ipython3",
   "version": "3.8.12"
  },
  "orig_nbformat": 4
 },
 "nbformat": 4,
 "nbformat_minor": 2
}
